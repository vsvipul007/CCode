{
  "nbformat": 4,
  "nbformat_minor": 0,
  "metadata": {
    "colab": {
      "name": "ReveiewAnalysis.ipynb",
      "provenance": [],
      "collapsed_sections": [],
      "authorship_tag": "ABX9TyNAQR3nt9/gWuE44QL5hIDI",
      "include_colab_link": true
    },
    "kernelspec": {
      "name": "python3",
      "display_name": "Python 3"
    }
  },
  "cells": [
    {
      "cell_type": "markdown",
      "metadata": {
        "id": "view-in-github",
        "colab_type": "text"
      },
      "source": [
        "<a href=\"https://colab.research.google.com/github/vsvipul007/CCode/blob/master/ReveiewAnalysis.ipynb\" target=\"_parent\"><img src=\"https://colab.research.google.com/assets/colab-badge.svg\" alt=\"Open In Colab\"/></a>"
      ]
    },
    {
      "cell_type": "code",
      "metadata": {
        "id": "Im-mscxFtGIB"
      },
      "source": [
        "import numpy as np\n",
        "import matplotlib.pyplot as plt\n",
        "import pandas as pd\n",
        "import re\n",
        "import nltk\n",
        "\n"
      ],
      "execution_count": 4,
      "outputs": []
    },
    {
      "cell_type": "code",
      "metadata": {
        "colab": {
          "base_uri": "https://localhost:8080/"
        },
        "id": "JlpqqwxG4wGx",
        "outputId": "52424cb1-950d-469d-9e6c-74d595594388"
      },
      "source": [
        "nltk.download('stopwords')\n",
        "nltk.download('vader_lexicon')\n",
        "nltk.download('wordnet')"
      ],
      "execution_count": 5,
      "outputs": [
        {
          "output_type": "stream",
          "text": [
            "[nltk_data] Downloading package stopwords to /root/nltk_data...\n",
            "[nltk_data]   Unzipping corpora/stopwords.zip.\n",
            "[nltk_data] Downloading package vader_lexicon to /root/nltk_data...\n",
            "[nltk_data] Downloading package wordnet to /root/nltk_data...\n",
            "[nltk_data]   Unzipping corpora/wordnet.zip.\n"
          ],
          "name": "stdout"
        },
        {
          "output_type": "execute_result",
          "data": {
            "text/plain": [
              "True"
            ]
          },
          "metadata": {
            "tags": []
          },
          "execution_count": 5
        }
      ]
    },
    {
      "cell_type": "code",
      "metadata": {
        "colab": {
          "resources": {
            "http://localhost:8080/nbextensions/google.colab/files.js": {
              "data": "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",
              "ok": true,
              "headers": [
                [
                  "content-type",
                  "application/javascript"
                ]
              ],
              "status": 200,
              "status_text": "OK"
            }
          },
          "base_uri": "https://localhost:8080/",
          "height": 75
        },
        "id": "0nd9mUDY4fP9",
        "outputId": "af85f3b1-8dd0-4219-93b4-8d39f2e5f949"
      },
      "source": [
        "#Load Data \n",
        "from google.colab import files\n",
        "uploaded = files.upload()"
      ],
      "execution_count": 6,
      "outputs": [
        {
          "output_type": "display_data",
          "data": {
            "text/html": [
              "\n",
              "     <input type=\"file\" id=\"files-b3f8c7a8-4c2d-4631-ac5e-d636eb03df4e\" name=\"files[]\" multiple disabled\n",
              "        style=\"border:none\" />\n",
              "     <output id=\"result-b3f8c7a8-4c2d-4631-ac5e-d636eb03df4e\">\n",
              "      Upload widget is only available when the cell has been executed in the\n",
              "      current browser session. Please rerun this cell to enable.\n",
              "      </output>\n",
              "      <script src=\"/nbextensions/google.colab/files.js\"></script> "
            ],
            "text/plain": [
              "<IPython.core.display.HTML object>"
            ]
          },
          "metadata": {
            "tags": []
          }
        },
        {
          "output_type": "stream",
          "text": [
            "Saving Restaurant_Reviews.tsv to Restaurant_Reviews.tsv\n"
          ],
          "name": "stdout"
        }
      ]
    },
    {
      "cell_type": "code",
      "metadata": {
        "colab": {
          "base_uri": "https://localhost:8080/",
          "height": 206
        },
        "id": "X0FgjOvH49-K",
        "outputId": "0263de3c-dab4-430e-947d-877916f84344"
      },
      "source": [
        "# Importing the dataset\n",
        "ds = pd.read_csv('Restaurant_Reviews.tsv', delimiter = '\\t', quoting = 3)\n",
        "ds.head()"
      ],
      "execution_count": 7,
      "outputs": [
        {
          "output_type": "execute_result",
          "data": {
            "text/html": [
              "<div>\n",
              "<style scoped>\n",
              "    .dataframe tbody tr th:only-of-type {\n",
              "        vertical-align: middle;\n",
              "    }\n",
              "\n",
              "    .dataframe tbody tr th {\n",
              "        vertical-align: top;\n",
              "    }\n",
              "\n",
              "    .dataframe thead th {\n",
              "        text-align: right;\n",
              "    }\n",
              "</style>\n",
              "<table border=\"1\" class=\"dataframe\">\n",
              "  <thead>\n",
              "    <tr style=\"text-align: right;\">\n",
              "      <th></th>\n",
              "      <th>Review</th>\n",
              "      <th>Liked</th>\n",
              "    </tr>\n",
              "  </thead>\n",
              "  <tbody>\n",
              "    <tr>\n",
              "      <th>0</th>\n",
              "      <td>Wow... Loved this place.</td>\n",
              "      <td>1</td>\n",
              "    </tr>\n",
              "    <tr>\n",
              "      <th>1</th>\n",
              "      <td>Crust is not good.</td>\n",
              "      <td>0</td>\n",
              "    </tr>\n",
              "    <tr>\n",
              "      <th>2</th>\n",
              "      <td>Not tasty and the texture was just nasty.</td>\n",
              "      <td>0</td>\n",
              "    </tr>\n",
              "    <tr>\n",
              "      <th>3</th>\n",
              "      <td>Stopped by during the late May bank holiday of...</td>\n",
              "      <td>1</td>\n",
              "    </tr>\n",
              "    <tr>\n",
              "      <th>4</th>\n",
              "      <td>The selection on the menu was great and so wer...</td>\n",
              "      <td>1</td>\n",
              "    </tr>\n",
              "  </tbody>\n",
              "</table>\n",
              "</div>"
            ],
            "text/plain": [
              "                                              Review  Liked\n",
              "0                           Wow... Loved this place.      1\n",
              "1                                 Crust is not good.      0\n",
              "2          Not tasty and the texture was just nasty.      0\n",
              "3  Stopped by during the late May bank holiday of...      1\n",
              "4  The selection on the menu was great and so wer...      1"
            ]
          },
          "metadata": {
            "tags": []
          },
          "execution_count": 7
        }
      ]
    },
    {
      "cell_type": "code",
      "metadata": {
        "colab": {
          "base_uri": "https://localhost:8080/"
        },
        "id": "7r2AYLJg5Nl2",
        "outputId": "a0fb18ec-6a2b-4c36-e9d6-d1e66e48e98a"
      },
      "source": [
        "#Rows and colums of dataset\n",
        "ds.shape"
      ],
      "execution_count": 8,
      "outputs": [
        {
          "output_type": "execute_result",
          "data": {
            "text/plain": [
              "(1000, 2)"
            ]
          },
          "metadata": {
            "tags": []
          },
          "execution_count": 8
        }
      ]
    },
    {
      "cell_type": "code",
      "metadata": {
        "id": "9KcogrSD5XQ6"
      },
      "source": [
        "#Deleting Null Values (Empty Strings)\n",
        "ds.dropna(inplace=True)\n",
        "#Check for duplicates\n",
        "ds.drop_duplicates(inplace=True)\n"
      ],
      "execution_count": 9,
      "outputs": []
    },
    {
      "cell_type": "code",
      "metadata": {
        "colab": {
          "base_uri": "https://localhost:8080/"
        },
        "id": "MCMRMTAa5jLP",
        "outputId": "3922d060-6c21-4e77-bb40-04ca17749f4e"
      },
      "source": [
        "#New rows and colums after duplicates repetition\n",
        "ds.shape"
      ],
      "execution_count": 10,
      "outputs": [
        {
          "output_type": "execute_result",
          "data": {
            "text/plain": [
              "(996, 2)"
            ]
          },
          "metadata": {
            "tags": []
          },
          "execution_count": 10
        }
      ]
    },
    {
      "cell_type": "code",
      "metadata": {
        "colab": {
          "base_uri": "https://localhost:8080/"
        },
        "id": "fYq8IF_v5oa_",
        "outputId": "ec095bca-5923-4ff2-ba05-0b3919a7eed8"
      },
      "source": [
        "#Cleaning the text using lemmatizer\n",
        "from nltk.corpus import stopwords\n",
        "from nltk.stem import WordNetLemmatizer \n",
        "lemm_corpus = []\n",
        "i=0\n",
        "for i in ds.index:\n",
        "  review = re.sub('[^a-zA-Z]', ' ', ds['Review'][i])\n",
        "  review = review.lower()\n",
        "  review = review.split()\n",
        "  lemmatizer = WordNetLemmatizer() \n",
        "  all_stopwords = stopwords.words('english')\n",
        "  all_stopwords.remove('not')\n",
        "  review = [lemmatizer.lemmatize(word) for word in review if not word in set(all_stopwords)]\n",
        "  review = ' '.join(review)\n",
        "  lemm_corpus.append(review)\n",
        "print(lemm_corpus)"
      ],
      "execution_count": 11,
      "outputs": [
        {
          "output_type": "stream",
          "text": [
            "['wow loved place', 'crust not good', 'not tasty texture nasty', 'stopped late may bank holiday rick steve recommendation loved', 'selection menu great price', 'getting angry want damn pho', 'honeslty taste fresh', 'potato like rubber could tell made ahead time kept warmer', 'fry great', 'great touch', 'service prompt', 'would not go back', 'cashier care ever say still ended wayyy overpriced', 'tried cape cod ravoli chicken cranberry mmmm', 'disgusted pretty sure human hair', 'shocked sign indicate cash', 'highly recommended', 'waitress little slow service', 'place not worth time let alone vega', 'not like', 'burrittos blah', 'food amazing', 'service also cute', 'could care le interior beautiful', 'performed', 'right red velvet cake ohhh stuff good', 'never brought salad asked', 'hole wall great mexican street taco friendly staff', 'took hour get food table restaurant food luke warm sever running around like totally overwhelmed', 'worst salmon sashimi', 'also combo like burger fry beer decent deal', 'like final blow', 'found place accident could not happier', 'seems like good quick place grab bite familiar pub food favor look elsewhere', 'overall like place lot', 'redeeming quality restaurant inexpensive', 'ample portion good price', 'poor service waiter made feel like stupid every time came table', 'first visit hiro delight', 'service suck', 'shrimp tender moist', 'not deal good enough would drag establishment', 'hard judge whether side good grossed melted styrofoam want eat fear getting sick', 'positive note server attentive provided great service', 'frozen puck disgust worst people behind register', 'thing like prime rib dessert section', 'bad food damn generic', 'burger good beef cooked right', 'want sandwich go firehouse', 'side greek salad greek dressing tasty pita hummus refreshing', 'ordered duck rare pink tender inside nice char outside', 'came running u realized husband left sunglass table', 'chow mein good', 'horrible attitude towards customer talk one customer enjoy food', 'portion huge', 'loved friendly server great food wonderful imaginative menu', 'heart attack grill downtown vega absolutely flat lined excuse restaurant', 'not much seafood like string pasta bottom', 'salad right amount sauce not power scallop perfectly cooked', 'ripped banana not ripped petrified tasteless', 'least think refill water struggle wave minute', 'place receives star appetizer', 'cocktail handmade delicious', 'definitely go back', 'glad found place', 'great food service huge portion give military discount', 'always great time do gringo', 'update went back second time still amazing', 'got food apparently never heard salt batter fish chewy', 'great way finish great', 'deal included tasting drink jeff went beyond expected', 'really really good rice time', 'service meh', 'took min get milkshake nothing chocolate milk', 'guess known place would suck inside excalibur use common sense', 'scallop dish quite appalling value well', 'time bad customer service', 'sweet potato fry good seasoned well', 'today second time lunch buffet pretty good', 'much good food vega feel cheated wasting eating opportunity going rice company', 'coming like experiencing underwhelming relationship party wait person ask break', 'walked place smelled like old grease trap others eating', 'turkey roast beef bland', 'place', 'pan cake everyone raving taste like sugary disaster tailored palate six year old', 'love pho spring roll oh yummy try', 'poor batter meat ratio made chicken tender unsatisfying', 'say food amazing', 'omelet die', 'everything fresh delicious', 'summary largely disappointing dining experience', 'like really sexy party mouth outrageously flirting hottest person party', 'never hard rock casino never ever step forward', 'best breakfast buffet', 'say bye bye tip lady', 'never go', 'back', 'food arrived quickly', 'not good', 'side cafe serf really good food', 'server fantastic found wife love roasted garlic bone marrow added extra meal another marrow go', 'good thing waiter helpful kept bloddy mary coming', 'best buffet town price cannot beat', 'loved mussel cooked wine reduction duck tender potato dish delicious', 'one better buffet', 'went tigerlilly fantastic afternoon', 'food delicious bartender attentive personable got great deal', 'ambience wonderful music playing', 'go back next trip', 'sooooo good', 'real sushi lover let honest yama not good', 'least min passed u ordering food arriving busy', 'really fantastic thai restaurant definitely worth visit', 'nice spicy tender', 'good price', 'check', 'pretty gross', 'better atmosphere', 'kind hard mess steak', 'although much liked look sound place actual experience bit disappointing', 'know place managed served blandest food ever eaten preparing indian cuisine', 'worst service boot least worry', 'service fine waitress friendly', 'guy steak steak loving son steak best worst place said best steak ever eaten', 'thought venture away get good sushi place really hit spot night', 'host staff lack better word bitch', 'bland not liking place number reason want waste time bad reviewing leave', 'phenomenal food service ambiance', 'return', 'definitely worth venturing strip pork belly return next time vega', 'place way overpriced mediocre food', 'penne vodka excellent', 'good selection food including massive meatloaf sandwich crispy chicken wrap delish tuna melt tasty burger', 'management rude', 'delicious nyc bagel good selection cream cheese real lox caper even', 'great subway fact good come every subway not meet expectation', 'seriously solid breakfast', 'one best bar food vega', 'extremely rude really many restaurant would love dine weekend vega', 'drink never empty made really great menu suggestion', '', 'waiter helpful friendly rarely checked u', 'husband ate lunch disappointed food service', 'red curry much bamboo shoot tasty', 'nice blanket moz top feel like done cover subpar food', 'bathroom clean place well decorated', 'menu always changing food quality going service extremely slow', 'service little slow considering served people server food coming slow pace', 'give thumb', 'watched waiter pay lot attention table ignore u', 'fianc came middle day greeted seated right away', 'great restaurant mandalay bay', 'waited forty five minute vain', 'crostini came salad stale', 'highlight great quality nigiri', 'staff friendly joint always clean', 'different cut piece day still wonderful tender well well flavored', 'ordered voodoo pasta first time really excellent pasta since going gluten free several year ago', 'place good', 'unfortunately must hit bakery leftover day everything ordered stale', 'came back today since relocated still not impressed', 'seated immediately', 'menu diverse reasonably priced', 'avoid cost', 'restaurant always full never wait', 'delicious', 'place hand one best place eat phoenix metro area', 'go looking good food', 'never treated bad', 'bacon hella salty', 'also ordered spinach avocado salad ingredient sad dressing literally zero taste', 'really vega fine dining used right menu handed lady price listed', 'waitress friendly', 'lordy khao soi dish not missed curry lover', 'everything menu terrific also thrilled made amazing accommodation vegetarian daughter', 'perhaps caught night judging review not inspired go back', 'service leaf lot desired', 'atmosphere modern hip maintaining touch coziness', 'not weekly haunt definitely place come back every', 'literally sat minute one asking take order', 'burger absolutely flavor meat totally bland burger overcooked charcoal flavor', 'also decided not send back waitress looked like verge heart attack', 'dressed treated rudely', 'probably dirt', 'love place hit spot want something healthy not lacking quantity flavor', 'ordered lemon raspberry ice cocktail also incredible', 'food sucked expected sucked could imagined', 'interesting decor', 'really like crepe station', 'also served hot bread butter home made potato chip bacon bit top original good', 'watch preparing delicious food', 'egg roll fantastic', 'order arrived one gyro missing', 'salad wing ice cream dessert left feeling quite satisfied', 'not really sure joey voted best hot dog valley reader phoenix magazine', 'best place go tasty bowl pho', 'live music friday totally blow', 'never insulted felt disrespected', 'friendly staff', 'worth drive', 'heard good thing place exceeding every hope could dreamed', 'food great serivce', 'warm beer help', 'great brunch spot', 'service friendly inviting', 'good lunch spot', 'lived since first last time stepped foot place', 'worst experience ever', 'must night place', 'side delish mixed mushroom yukon gold puree white corn beateous', 'bug never showed would given sure side wall bug climbing kitchen', 'minute waiting salad realized coming time soon', 'friend loved salmon tartar', 'go back', 'extremely tasty', 'waitress good though', 'soggy not good', 'jamaican mojitos delicious', 'small not worth price', 'food rich order accordingly', 'shower area outside rinse not take full shower unless mind nude everyone see', 'service bit lacking', 'lobster bisque bussell sprout risotto filet needed salt pepper course none table', 'hopefully bodes going business someone cook come', 'either cold not enough flavor bad', 'loved bacon wrapped date', 'unbelievable bargain', 'folk otto always make u feel welcome special', 'main also uninspired', 'place first pho amazing', 'wonderful experience made place must stop whenever town', 'food bad enough enjoy dealing world worst annoying drunk people', 'fun chef', 'ordered double cheeseburger got single patty falling apart picture uploaded yeah still suck', 'great place couple drink watch sporting event wall covered tv', 'possible give zero star', 'description said yum yum sauce another said eel sauce yet another said spicy mayo well none roll sauce', 'say would hardest decision honestly dish taste supposed taste amazing', 'not rolled eye may stayed not sure go back try', 'everyone attentive providing excellent customer service', 'horrible waste time money', 'dish quite flavourful', 'time side restaurant almost empty excuse', 'busy either also building freezing cold', 'like reviewer said pay eat place', 'drink took close minute come one point', 'seriously flavorful delight folk', 'much better ayce sushi place went vega', 'lighting dark enough set mood', 'based sub par service received effort show gratitude business going back', 'owner really great people', 'nothing privileged working eating', 'greek dressing creamy flavorful', 'overall think would take parent place made similar complaint silently felt', 'pizza good peanut sauce tasty', 'table service pretty fast', 'fantastic service', 'well would given godfather zero star possible', 'know make', 'tough short flavor', 'hope place stick around', 'bar vega not ever recall charged tap water', 'restaurant atmosphere exquisite', 'good service clean inexpensive boot', 'seafood fresh generous portion', 'plus buck', 'service not par either', 'thus far visited twice food absolutely delicious time', 'good year ago', 'self proclaimed coffee cafe wildly disappointed', 'veggitarian platter world', 'cant go wrong food', 'beat', 'stopped place madison ironman friendly kind staff', 'chef friendly good job', 'better not dedicated boba tea spot even jenni pho', 'liked patio service outstanding', 'goat taco skimp meat wow flavor', 'think not', 'mac salad pretty bland not getting', 'went bachi burger friend recommendation not disappointed', 'service stink', 'waited waited', 'place not quality sushi not quality restaurant', 'would definitely recommend wing well pizza', 'great pizza salad', 'thing went wrong burned saganaki', 'waited hour breakfast could done time better home', 'place amazing', 'hate disagree fellow yelpers husband disappointed place', 'waited hour never got either pizza many around u came later', 'know slow', 'staff great food delish incredible beer selection', 'live neighborhood disappointed back convenient location', 'know pulled pork could soooo delicious', 'get incredibly fresh fish prepared care', 'go gave star rating please know third time eating bachi burger writing review', 'love fact everything menu worth', 'never dining place', 'food excellent service good', 'good beer drink selection good food selection', 'please stay away shrimp stir fried noodle', 'potato chip order sad could probably count many chip box probably around', 'food really boring', 'good service check', 'greedy corporation never see another dime', 'never ever go back', 'much like go back get passed atrocious service never return', 'summer dine charming outdoor patio delightful', 'not expect good', 'fantastic food', 'ordered toasted english muffin came untoasted', 'food good', 'never going back', 'great food price high quality house made', 'bus boy hand rude', 'point friend basically figured place joke mind making publicly loudly known', 'back good bbq lighter fare reasonable pricing tell public back old way', 'considering two u left full happy go wrong', 'bread made house', 'downside service', 'also fry without doubt worst fry ever', 'service exceptional food good review', 'couple month later returned amazing meal', 'favorite place town shawarrrrrrma', 'black eyed pea sweet potato unreal', 'disappointed', 'could serve vinaigrette may make better overall dish still good', 'go far many place never seen restaurant serf egg breakfast especially', 'mom got home immediately got sick bite salad', 'server not pleasant deal always honor pizza hut coupon', 'truly unbelievably good glad went back', 'fantastic service pleased atmosphere', 'everything gross', 'love place', 'great service food', 'first bathroom location dirty seat cover not replenished plain yucky', 'burger got gold standard burger kind disappointed', 'omg food delicioso', 'nothing authentic place', 'spaghetti nothing special whatsoever', 'dish salmon best great', 'vegetable fresh sauce feel like authentic thai', 'worth driving tucson', 'selection probably worst seen vega none', 'pretty good beer selection', 'place like chipotle better', 'classy warm atmosphere fun fresh appetizer succulent steak baseball steak', 'star brick oven bread app', 'eaten multiple time time food delicious', 'sat another ten minute finally gave left', 'terrible', 'everyone treated equally special', 'take min pancake egg', 'delicious', 'good side staff genuinely pleasant enthusiastic real treat', 'sadly gordon ramsey steak place shall sharply avoid next trip vega', 'always evening wonderful food delicious', 'best fish ever life', 'bathroom next door nice', 'buffet small food offered bland', 'outstanding little restaurant best food ever tasted', 'pretty cool would say', 'definitely turn doubt back unless someone else buying', 'server great job handling large rowdy table', 'find wasting food despicable food', 'wife lobster bisque soup lukewarm', 'would come back sushi craving vega', 'staff great ambiance great', 'deserves star', 'left stomach ache felt sick rest day', 'dropped ball', 'dining space tiny elegantly decorated comfortable', 'customize order way like usual eggplant green bean stir fry love', 'bean rice mediocre best', 'best taco town far', 'took back money got outta', 'interesting part town place amazing', 'rude inconsiderate management', 'staff not friendly wait time served horrible one even say hi first minute', 'back', 'great dinner', 'service outshining definitely recommend halibut', 'food terrible', 'never ever go back told many people happened', 'recommend unless car break front starving', 'come back every time vega', 'place deserves one star food', 'disgrace', 'def coming back bowl next time', 'want healthy authentic ethic food try place', 'continue come lady night andddd date night highly recommend place anyone area', 'several time past experience always great', 'walked away stuffed happy first vega buffet experience', 'service excellent price pretty reasonable considering vega located inside crystal shopping mall aria', 'summarize food incredible nay transcendant nothing brings joy quite like memory pneumatic condiment dispenser', 'probably one people ever go ians not like', 'kid pizza always hit lot great side dish option kiddos', 'service perfect family atmosphere nice see', 'cooked perfection service impeccable', 'one simply disappointment', 'overall disappointed quality food bouchon', 'accountant know getting screwed', 'great place eat reminds little mom pop shop san francisco bay area', 'today first taste buldogis gourmet hot dog tell ever thought possible', 'left frustrated', 'definitely soon', 'food really good got full petty fast', 'service fantastic', 'total waste time', 'know kind best iced tea', 'come hungry leave happy stuffed', 'service give star', 'assure disappointed', 'take little bad service food suck', 'gave trying eat crust teeth still sore', 'completely grossed', 'really enjoyed eating', 'first time going think quickly become regular', 'server nice even though looked little overwhelmed need stayed professional friendly end', 'dinner companion told everything fresh nice texture taste', 'ground right next table large smeared stepped tracked everywhere pile green bird poop', 'furthermore even find hour operation website', 'tried like place time think done', 'mistake', 'complaint', 'seriously good pizza expert connisseur topic', 'waiter jerk', 'strike want rushed', 'nicest restaurant owner ever come across', 'never come', 'loved biscuit', 'service quick friendly', 'ordered appetizer took minute pizza another minute', 'absolutley fantastic', 'huge awkward lb piece cow th gristle fat', 'definitely come back', 'like steiner dark feel like bar', 'wow spicy delicious', 'not familiar check', 'take business dinner dollar elsewhere', 'love go back', 'anyway f restaurant wonderful breakfast lunch', 'nothing special', 'day week different deal delicious', 'not mention combination pear almond bacon big winner', 'not back', 'sauce tasteless', 'food delicious spicy enough sure ask spicier prefer way', 'ribeye steak cooked perfectly great mesquite flavor', 'think going back anytime soon', 'food gooodd', 'far sushi connoisseur definitely tell difference good food bad food certainly bad food', 'insulted', 'last time lunch bad', 'chicken wing contained driest chicken meat ever eaten', 'food good enjoyed every mouthful enjoyable relaxed venue couple small family group etc', 'nargile think great', 'best tater tot southwest', 'loved place', 'definitely not worth paid', 'vanilla ice cream creamy smooth profiterole chou pastry fresh enough', 'im az time new spot', 'manager worst', 'inside really quite nice clean', 'food outstanding price reasonable', 'think running back carly anytime soon food', 'due fact took minute acknowledged another minute get food kept forgetting thing', 'love margarita', 'first vega buffet not disappoint', 'good though', 'one note ventilation could use upgrading', 'great pork sandwich', 'waste time', 'total letdown would much rather go camelback flower shop cartel coffee', 'third cheese friend burger cold', 'enjoy pizza brunch', 'steak well trimmed also perfectly cooked', 'group claimed would handled u beautifully', 'loved', 'asked bill leave without eating bring either', 'place jewel la vega exactly hoping find nearly ten year living', 'seafood limited boiled shrimp crab leg crab leg definitely not taste fresh', 'selection food not best', 'delicious absolutely back', 'small family restaurant fine dining establishment', 'toro tartare cavier extraordinary liked thinly sliced wagyu white truffle', 'dont think back long time', 'attached gas station rarely good sign', 'awesome', 'back many time soon', 'menu much good stuff could not decide', 'worse humiliated worker right front bunch horrible name calling', 'conclusion filling meal', 'daily special always hit group', 'tragedy struck', 'pancake also really good pretty large', 'first crawfish experience delicious', 'monster chicken fried steak egg time favorite', 'waitress sweet funny', 'also taste mom multi grain pumpkin pancake pecan butter amazing fluffy delicious', 'rather eat airline food seriously', 'cant say enough good thing place', 'ambiance incredible', 'waitress manager friendly', 'would not recommend place', 'overall impressed noca', 'gyro basically lettuce', 'terrible service', 'thoroughly disappointed', 'much pasta love homemade hand made pasta thin pizza', 'give try happy', 'far best cheesecurds ever', 'reasonably priced also', 'everything perfect night', 'food good typical bar food', 'drive get', 'first glance lovely bakery cafe nice ambiance clean friendly staff', 'anyway not think go back', 'point finger item menu order disappointed', 'oh thing beauty restaurant', 'gone go', 'greasy unhealthy meal', 'first time might last', 'burger amazing', 'similarly delivery man not say word apology food minute late', 'way expensive', 'sure order dessert even need pack go tiramisu cannoli die', 'first time wait next', 'bartender also nice', 'everything good tasty', 'place two thumb way', 'best place vega breakfast check sat sun', 'love authentic mexican food want whole bunch interesting yet delicious meat choose need try place', 'terrible management', 'excellent new restaurant experienced frenchman', 'zero star would give zero star', 'great steak great side great wine amazing dessert', 'worst martini ever', 'steak shrimp opinion best entree gc', 'opportunity today sample amazing pizza', 'waited thirty minute seated although vacant table folk waiting', 'yellowtail carpaccio melt mouth fresh', 'try going back even empty', 'going eat potato found stranger hair', 'spicy enough perfect actually', 'last night second time dining happy decided go back', 'not even hello right', 'dessert bit strange', 'boyfriend came first time recent trip vega could not pleased quality food service', 'really recommend place go wrong donut place', 'nice ambiance', 'would recommend saving room', 'guess maybe went night disgraceful', 'however recent experience particular location not good', 'know not like restaurant something', 'avoid establishment', 'think restaurant suffers not trying hard enough', 'tapa dish delicious', 'heart place', 'salad bland vinegrette baby green heart palm', 'two felt disgusting', 'good time', 'believe place great stop huge belly hankering sushi', 'generous portion great taste', 'never go back place never ever recommended place anyone', 'server went back forth several time not even much helped', 'food delicious', 'hour seriously', 'consider theft', 'eew location need complete overhaul', 'recently witnessed poor quality management towards guest well', 'waited waited waited', 'also came back check u regularly excellent service', 'server super nice checked u many time', 'pizza tasted old super chewy not good way', 'swung give try deeply disappointed', 'service good company better', 'staff also friendly efficient', 'service fan quick served nice folk', 'boy sucker dry', 'rated', 'look authentic thai food go else', 'steak recommended', 'pulled car waited another minute acknowledged', 'great food great service clean friendly setting', 'assure back', 'hate thing much cheap quality black olive', 'breakfast perpared great beautiful presentation giant slice toast lightly dusted powdered sugar', 'kid play area nasty', 'great place fo take eat', 'waitress friendly happy accomodate vegan veggie option', 'omg felt like never eaten thai food dish', 'extremely crumby pretty tasteless', 'pale color instead nice char flavor', 'crouton also taste homemade extra plus', 'got home see driest damn wing ever', 'regular stop trip phoenix', 'really enjoyed crema caf expanded even told friend best breakfast', 'not good money', 'miss wish one philadelphia', 'got sitting fairly fast ended waiting minute place order another minute food arrived', 'also best cheese crisp town', 'good value great food great service', 'ask satisfying meal', 'food good', 'awesome', 'wanted leave', 'made drive way north scottsdale not one bit disappointed', 'not eating', 'owner really really need quit soooooo cheap let wrap freaking sandwich two paper not one', 'checked place couple year ago not impressed', 'chicken got definitely reheated ok wedge cold soggy', 'sorry not getting food anytime soon', 'absolute must visit', 'cow tongue cheek taco amazing', 'friend not like bloody mary', 'despite hard rate business actually rare give star', 'really want make experience good one', 'not return', 'chicken pho tasted bland', 'disappointing', 'grilled chicken tender yellow saffron seasoning', 'drive thru mean not want wait around half hour food somehow end going make u wait wait', 'pretty awesome place', 'ambience perfect', 'best luck rude non customer service focused new management', 'grandmother make roasted chicken better one', 'asked multiple time wine list time ignored went hostess got one', 'staff always super friendly helpful especially cool bring two small boy baby', 'four star food guy blue shirt great vibe still letting u eat', 'roast beef sandwich tasted really good', 'evening drastically sick', 'high quality chicken chicken caesar salad', 'ordered burger rare came done', 'promptly greeted seated', 'tried go lunch madhouse', 'proven dead wrong sushi bar not quality great service fast food impeccable', 'waiting hour seated not greatest mood', 'good joint', 'macarons insanely good', 'not eating', 'waiter attentive friendly informative', 'maybe cold would somewhat edible', 'place lot promise fails deliver', 'bad experience', 'mistake', 'food average best', 'great food', 'going back anytime soon', 'disappointed ordered big bay plater', 'great place relax awesome burger beer', 'perfect sit family meal get together friend', 'not much flavor poorly constructed', 'patio seating comfortable', 'fried rice dry well', 'hand favorite italian restaurant', 'scream legit book somethat also pretty rare vega', 'not fun experience', 'atmosphere great lovely duo violinist playing song requested', 'personally love hummus pita baklava falafel baba ganoush amazing eggplant', 'convenient since staying mgm', 'owner super friendly staff courteous', 'great', 'eclectic selection', 'sweet potato tot good onion ring perfection close', 'staff attentive', 'chef generous time even came around twice take picture', 'owner used work nobu place really similar half price', 'google mediocre imagine smashburger pop', 'dont go', 'promise disappoint', 'sushi lover avoid place mean', 'great double cheeseburger', 'awesome service food', 'fantastic neighborhood gem', 'wait go back', 'plantain worst ever tasted', 'great place highly recommend', 'service slow not attentive', 'gave star giving star', 'staff spends time talking', 'dessert panna cotta amazing', 'good food great atmosphere', 'damn good steak', 'total brunch fail', 'price reasonable flavor spot sauce home made slaw not drenched mayo', 'decor nice piano music soundtrack pleasant', 'steak amazing rge fillet relleno best seafood plate ever', 'good food good service', 'absolutely amazing', 'probably back honest', 'definitely back', 'sergeant pepper beef sandwich auju sauce excellent sandwich well', 'hawaiian breeze mango magic pineapple delight smoothy tried far good', 'went lunch service slow', 'much say place walked expected amazing quickly disappointed', 'mortified', 'needle say never back', 'anyways food definitely not filling price pay expect', 'chip came dripping grease mostly not edible', 'really impressed strip steak', 'going since every meal awesome', 'server nice attentive serving staff', 'cashier friendly even brought food', 'work hospitality industry paradise valley refrained recommending cibo longer', 'atmosphere fun', 'would not recommend others', 'service quick even go order like like', 'mean really get famous fish chip terrible', 'said mouth belly still quite pleased', 'not thing', 'thumb', 'reading please go', 'loved grilled pizza reminded legit italian pizza', 'pro large seating area nice bar area great simple drink menu best brick oven pizza homemade dough', 'really nice atmosphere', 'tonight elk filet special sucked', 'one bite hooked', 'ordered old classic new dish going time sorely disappointed everything', 'cute quaint simple honest', 'chicken deliciously seasoned perfect fry outside moist chicken inside', 'food great always compliment chef', 'special thanks dylan recommendation order yummy tummy', 'awesome selection beer', 'great food awesome service', 'one nice thing added gratuity bill since party larger expect tip', 'fly apple juice fly', 'han nan chicken also tasty', 'service thought good', 'food barely lukewarm must sitting waiting server bring u', 'ryan bar definitely one edinburgh establishment revisiting', 'nicest chinese restaurant', 'overall like food service', 'also serve indian naan bread hummus spicy pine nut sauce world', 'probably never coming back recommend', 'friend pasta also bad barely touched', 'try airport experience tasty food speedy friendly service', 'love decor chinese calligraphy wall paper', 'never anything complain', 'restaurant clean family restaurant feel', 'way fried', 'not sure long stood long enough begin feel awkwardly place', 'opened sandwich impressed not good way', 'not back', 'warm feeling service felt like guest special treat', 'extensive menu provides lot option breakfast', 'always order vegetarian menu dinner wide array option choose', 'watched price inflate portion get smaller management attitude grow rapidly', 'wonderful lil tapa ambience made feel warm fuzzy inside', 'got enjoy seafood salad fabulous vinegrette', 'wonton thin not thick chewy almost melt mouth', 'level spicy perfect spice whelm soup', 'sat right time server get go fantastic', 'main thing enjoy crowd older crowd around mid', 'side town definitely spot hit', 'wait minute get drink longer get arepas', 'great place eat', 'jalapeno bacon soooo good', 'service poor thats nice', 'food good service good price good', 'place not clean food oh stale', 'chicken dish ok beef like shoe leather', 'service beyond bad', 'happy', 'tasted like dirt', 'one place phoenix would definately go back', 'block amazing', 'close house low key non fancy affordable price good food', 'hot sour egg flower soup absolutely star', 'sashimi poor quality soggy tasteless', 'great time family dinner sunday night', 'food not tasty not say real traditional hunan style', 'bother slow service', 'flair bartender absolutely amazing', 'frozen margarita way sugary taste', 'good ordered twice', 'nutshell restaraunt smell like combination dirty fish market sewer', 'girlfriend veal bad', 'unfortunately not good', 'pretty satifying experience', 'join club get awesome offer via email', 'perfect someone like beer ice cold case even colder', 'bland flavorless good way describing barely tepid meat', 'chain fan beat place easily', 'nacho must', 'not coming back', 'many word say place everything pretty well', 'staff super nice quick even crazy crowd downtown jury lawyer court staff', 'great atmosphere friendly fast service', 'received pita huge lot meat thumb', 'food arrives meh', 'paying hot dog fry look like came kid meal wienerschnitzel not idea good meal', 'classic maine lobster roll fantastic', 'brother law work mall ate day guess sick night', 'good going review place twice hereas tribute place tribute event held last night', 'chip salsa really good salsa fresh', 'place great', 'mediocre food', 'get inside impressed place', 'super pissd', 'service super friendly', 'sad little vegetable overcooked', 'place nice surprise', 'golden crispy delicious', 'high hope place since burger cooked charcoal grill unfortunately taste fell flat way flat', 'could eat bruschetta day devine', 'not single employee came see ok even needed water refill finally served u food', 'lastly mozzarella stick best thing ordered', 'first time ever came amazing experience still tell people awesome duck', 'server negligent need made u feel unwelcome would not suggest place', 'service terrible though', 'place overpriced not consistent boba really overpriced', 'packed', 'say dessert yummy', 'seasonal fruit fresh white peach puree', 'kept getting worse worse officially done', 'place honestly blown', 'definitely would not eat', 'not waste money', 'love put food nice plastic container opposed cramming little paper takeout box', 'cr pe delicate thin moist', 'awful service', 'ever go', 'food quality horrible', 'price think place would much rather gone', 'service fair best', 'love sushi found kabuki priced hip service', 'favor stay away dish', 'poor service', 'one table thought food average worth wait', 'best service food ever maria server good friendly made day', 'excellent', 'paid bill not tip felt server terrible job', 'lunch great experience', 'never bland food surprised considering article read focused much spice flavor', 'food way overpriced portion fucking small', 'recently tried caballero back every week since', 'buck head really expect better food', 'food came good pace', 'ate twice last visit especially enjoyed salmon salad', 'could not believe dirty oyster', 'place deserves star', 'fact going round star awesome', 'disbelief dish qualified worst version food ever tasted', 'bad day not low tolerance rude customer service people job nice polite wash dish otherwise', 'potato great biscuit', 'probably would not go', 'flavorful perfect amount heat', 'price reasonable service great', 'wife hated meal coconut shrimp friend really not enjoy meal either', 'fella got huevos rancheros look appealing', 'went happy hour great list wine', 'may say buffet pricey think get pay place getting quite lot', 'probably coming back', 'worst food service', 'place pretty good nice little vibe restaurant', 'talk great customer service course back', 'hot dish not hot cold dish close room temp watched staff prepare food bare hand glove everything deep fried oil', 'love fry bean', 'always pleasure dealing', 'plethora salad sandwich everything tried get seal approval', 'place awesome want something light healthy summer', 'sushi strip place go', 'service great even manager came helped table', 'feel dining room college cooking course high class dining service slow best', 'started review two star editing give one', 'worst sushi ever eat besides costco', 'excellent restaurant highlighted great service unique menu beautiful setting', 'boyfriend sat bar completely delightful experience', 'weird vibe owner', 'hardly meat', 'better bagel grocery store', 'go place gyro', 'love owner chef one authentic japanese cool dude', 'burger good pizza used amazing doughy flavorless', 'found six inch long piece wire salsa', 'service terrible food mediocre', 'definately enjoyed', 'ordered albondigas soup warm tasted like tomato soup frozen meatball', 'three different occasion asked well done medium well three time got bloodiest piece meat plate', 'two bite refused eat anymore', 'service extremely slow', 'minute wait got table', 'seriously killer hot chai latte', 'allergy warning menu waitress absolutely clue meal not contain peanut', 'boyfriend tried mediterranean chicken salad fell love', 'rotating beer tap also highlight place', 'pricing bit concern mellow mushroom', 'worst thai ever', 'stay vega must get breakfast least', 'want first say server great perfect service', 'pizza selection good', 'strawberry tea good', 'highly unprofessional rude loyal patron', 'overall great experience', 'spend money elsewhere', 'regular toasted bread equally satisfying occasional pat butter mmmm', 'buffet bellagio far anticipated', 'drink weak people', 'order not correct', 'also feel like chip bought not made house', 'disappointing dinner went elsewhere dessert', 'chip sals amazing', 'returning', 'new fav vega buffet spot', 'seriously cannot believe owner many unexperienced employee running around like chicken head cut', 'sad', 'felt insulted disrespected could talk judge another human like', 'call steakhouse properly cook steak understand', 'not impressed concept food', 'thing crazy guacamole like pur ed', 'really nothing postinos hope experience better', 'got food poisoning buffet', 'brought fresh batch fry thinking yay something warm', 'hilarious yummy christmas eve dinner remember biggest fail entire trip u', 'needle say going back anytime soon', 'place disgusting', 'every time eat see caring teamwork professional degree', 'ri style calamari joke', 'however much garlic fondue barely edible', 'could barely stomach meal complain business lunch', 'bad lost heart finish', 'also took forever bring u check asked', 'one make scene restaurant get definitely lost love one', 'disappointing experience', 'food par denny say not good', 'want wait mediocre food downright terrible service place', 'waaaaaayyyyyyyyyy rated saying', 'going back', 'place fairly clean food simply worth', 'place lacked style', 'sangria half glass wine full ridiculous', 'bother coming', 'meat pretty dry sliced brisket pulled pork', 'building seems pretty neat bathroom pretty trippy eat', 'equally awful', 'probably not hurry go back', 'slow seating even reservation', 'not good stretch imagination', 'cashew cream sauce bland vegetable undercooked', 'chipolte ranch dipping sause tasteless seemed thin watered heat', 'bit sweet not really spicy enough lacked flavor', 'disappointed', 'place horrible way overpriced', 'maybe vegetarian fare twice thought average best', 'busy know', 'table outside also dirty lot time worker not always friendly helpful menu', 'ambiance not feel like buffet setting douchey indoor garden tea biscuit', 'con spotty service', 'fry not hot neither burger', 'came back cold', 'food came disappointment ensued', 'real disappointment waiter', 'husband said rude not even apologize bad food anything', 'reason eat would fill night binge drinking get carbs stomach', 'insult profound deuchebaggery go outside smoke break serving solidify', 'someone order two taco think may part customer service ask combo ala cart', 'quite disappointed although blame need placed door', 'rave review wait eat disappointment', 'del taco pretty nasty avoided possible', 'not hard make decent hamburger', 'like', 'hell go back', 'gotten much better service pizza place next door service received restaurant', 'know big deal place back ya', 'immediately said wanted talk manager not want talk guy shot fireball behind bar', 'ambiance much better', 'unfortunately set u disapppointment entree', 'food good', 'server suck wait correction server heimer sucked', 'happened next pretty putting', 'bad cause know family owned really wanted like place', 'overpriced getting', 'vomited bathroom mid lunch', 'kept looking time soon become minute yet still food', 'place eat circumstance would ever return top list', 'started tuna sashimi brownish color obviously fresh', 'food average', 'sure beat nacho movie would expect little bit coming restaurant', 'ha long bay bit flop', 'problem charge sandwich bigger subway sub offer better amount vegetable', 'shrimp unwrapped live mile brushfire literally ice cold', 'lacked flavor seemed undercooked dry', 'really impressive place closed', 'would avoid place staying mirage', 'refried bean came meal dried crusty food bland', 'spend money time place else', 'lady table next u found live green caterpillar salad', 'presentation food awful', 'tell disappointed', 'think food flavor texture lacking', 'appetite instantly gone', 'overall not impressed would not go back', 'whole experience underwhelming think go ninja sushi next time', 'wasted enough life poured salt wound drawing time took bring check']\n"
          ],
          "name": "stdout"
        }
      ]
    },
    {
      "cell_type": "code",
      "metadata": {
        "colab": {
          "base_uri": "https://localhost:8080/",
          "height": 206
        },
        "id": "fr39KGnd5vDh",
        "outputId": "755e01c2-b478-4f27-a152-98ccab9935b5"
      },
      "source": [
        "#Adding Lemmatized Cleaned Review\n",
        "ds['lemm_cleaned_review'] = lemm_corpus\n",
        "ds.head()"
      ],
      "execution_count": 12,
      "outputs": [
        {
          "output_type": "execute_result",
          "data": {
            "text/html": [
              "<div>\n",
              "<style scoped>\n",
              "    .dataframe tbody tr th:only-of-type {\n",
              "        vertical-align: middle;\n",
              "    }\n",
              "\n",
              "    .dataframe tbody tr th {\n",
              "        vertical-align: top;\n",
              "    }\n",
              "\n",
              "    .dataframe thead th {\n",
              "        text-align: right;\n",
              "    }\n",
              "</style>\n",
              "<table border=\"1\" class=\"dataframe\">\n",
              "  <thead>\n",
              "    <tr style=\"text-align: right;\">\n",
              "      <th></th>\n",
              "      <th>Review</th>\n",
              "      <th>Liked</th>\n",
              "      <th>lemm_cleaned_review</th>\n",
              "    </tr>\n",
              "  </thead>\n",
              "  <tbody>\n",
              "    <tr>\n",
              "      <th>0</th>\n",
              "      <td>Wow... Loved this place.</td>\n",
              "      <td>1</td>\n",
              "      <td>wow loved place</td>\n",
              "    </tr>\n",
              "    <tr>\n",
              "      <th>1</th>\n",
              "      <td>Crust is not good.</td>\n",
              "      <td>0</td>\n",
              "      <td>crust not good</td>\n",
              "    </tr>\n",
              "    <tr>\n",
              "      <th>2</th>\n",
              "      <td>Not tasty and the texture was just nasty.</td>\n",
              "      <td>0</td>\n",
              "      <td>not tasty texture nasty</td>\n",
              "    </tr>\n",
              "    <tr>\n",
              "      <th>3</th>\n",
              "      <td>Stopped by during the late May bank holiday of...</td>\n",
              "      <td>1</td>\n",
              "      <td>stopped late may bank holiday rick steve recom...</td>\n",
              "    </tr>\n",
              "    <tr>\n",
              "      <th>4</th>\n",
              "      <td>The selection on the menu was great and so wer...</td>\n",
              "      <td>1</td>\n",
              "      <td>selection menu great price</td>\n",
              "    </tr>\n",
              "  </tbody>\n",
              "</table>\n",
              "</div>"
            ],
            "text/plain": [
              "                                              Review  ...                                lemm_cleaned_review\n",
              "0                           Wow... Loved this place.  ...                                    wow loved place\n",
              "1                                 Crust is not good.  ...                                     crust not good\n",
              "2          Not tasty and the texture was just nasty.  ...                            not tasty texture nasty\n",
              "3  Stopped by during the late May bank holiday of...  ...  stopped late may bank holiday rick steve recom...\n",
              "4  The selection on the menu was great and so wer...  ...                         selection menu great price\n",
              "\n",
              "[5 rows x 3 columns]"
            ]
          },
          "metadata": {
            "tags": []
          },
          "execution_count": 12
        }
      ]
    },
    {
      "cell_type": "code",
      "metadata": {
        "colab": {
          "base_uri": "https://localhost:8080/"
        },
        "id": "Gfxb2dUV5vk4",
        "outputId": "97e18b11-e057-4441-cd03-94f56bc02ef0"
      },
      "source": [
        "#Cleaning the text using Stemmer\n",
        "from nltk.stem.porter import PorterStemmer\n",
        "stem_corpus = []\n",
        "for i in ds.index:\n",
        "  review = re.sub('[^a-zA-Z]', ' ', ds['Review'][i])\n",
        "  review = review.lower()\n",
        "  review = review.split()\n",
        "  ps = PorterStemmer()\n",
        "  all_stopwords = stopwords.words('english')\n",
        "  all_stopwords.remove('not')\n",
        "  review = [ps.stem(word) for word in review if not word in set(all_stopwords)]\n",
        "  review = ' '.join(review)\n",
        "  stem_corpus.append(review)\n",
        "print(stem_corpus)\n"
      ],
      "execution_count": 13,
      "outputs": [
        {
          "output_type": "stream",
          "text": [
            "['wow love place', 'crust not good', 'not tasti textur nasti', 'stop late may bank holiday rick steve recommend love', 'select menu great price', 'get angri want damn pho', 'honeslti tast fresh', 'potato like rubber could tell made ahead time kept warmer', 'fri great', 'great touch', 'servic prompt', 'would not go back', 'cashier care ever say still end wayyy overpr', 'tri cape cod ravoli chicken cranberri mmmm', 'disgust pretti sure human hair', 'shock sign indic cash', 'highli recommend', 'waitress littl slow servic', 'place not worth time let alon vega', 'not like', 'burritto blah', 'food amaz', 'servic also cute', 'could care less interior beauti', 'perform', 'right red velvet cake ohhh stuff good', 'never brought salad ask', 'hole wall great mexican street taco friendli staff', 'took hour get food tabl restaur food luke warm sever run around like total overwhelm', 'worst salmon sashimi', 'also combo like burger fri beer decent deal', 'like final blow', 'found place accid could not happier', 'seem like good quick place grab bite familiar pub food favor look elsewher', 'overal like place lot', 'redeem qualiti restaur inexpens', 'ampl portion good price', 'poor servic waiter made feel like stupid everi time came tabl', 'first visit hiro delight', 'servic suck', 'shrimp tender moist', 'not deal good enough would drag establish', 'hard judg whether side good gross melt styrofoam want eat fear get sick', 'posit note server attent provid great servic', 'frozen puck disgust worst peopl behind regist', 'thing like prime rib dessert section', 'bad food damn gener', 'burger good beef cook right', 'want sandwich go firehous', 'side greek salad greek dress tasti pita hummu refresh', 'order duck rare pink tender insid nice char outsid', 'came run us realiz husband left sunglass tabl', 'chow mein good', 'horribl attitud toward custom talk one custom enjoy food', 'portion huge', 'love friendli server great food wonder imagin menu', 'heart attack grill downtown vega absolut flat line excus restaur', 'not much seafood like string pasta bottom', 'salad right amount sauc not power scallop perfectli cook', 'rip banana not rip petrifi tasteless', 'least think refil water struggl wave minut', 'place receiv star appet', 'cocktail handmad delici', 'definit go back', 'glad found place', 'great food servic huge portion give militari discount', 'alway great time do gringo', 'updat went back second time still amaz', 'got food appar never heard salt batter fish chewi', 'great way finish great', 'deal includ tast drink jeff went beyond expect', 'realli realli good rice time', 'servic meh', 'took min get milkshak noth chocol milk', 'guess known place would suck insid excalibur use common sens', 'scallop dish quit appal valu well', 'time bad custom servic', 'sweet potato fri good season well', 'today second time lunch buffet pretti good', 'much good food vega feel cheat wast eat opportun go rice compani', 'come like experienc underwhelm relationship parti wait person ask break', 'walk place smell like old greas trap other eat', 'turkey roast beef bland', 'place', 'pan cake everyon rave tast like sugari disast tailor palat six year old', 'love pho spring roll oh yummi tri', 'poor batter meat ratio made chicken tender unsatisfi', 'say food amaz', 'omelet die', 'everyth fresh delici', 'summari larg disappoint dine experi', 'like realli sexi parti mouth outrag flirt hottest person parti', 'never hard rock casino never ever step forward', 'best breakfast buffet', 'say bye bye tip ladi', 'never go', 'back', 'food arriv quickli', 'not good', 'side cafe serv realli good food', 'server fantast found wife love roast garlic bone marrow ad extra meal anoth marrow go', 'good thing waiter help kept bloddi mari come', 'best buffet town price cannot beat', 'love mussel cook wine reduct duck tender potato dish delici', 'one better buffet', 'went tigerlilli fantast afternoon', 'food delici bartend attent person got great deal', 'ambienc wonder music play', 'go back next trip', 'sooooo good', 'real sushi lover let honest yama not good', 'least min pass us order food arriv busi', 'realli fantast thai restaur definit worth visit', 'nice spici tender', 'good price', 'check', 'pretti gross', 'better atmospher', 'kind hard mess steak', 'although much like look sound place actual experi bit disappoint', 'know place manag serv blandest food ever eaten prepar indian cuisin', 'worst servic boot least worri', 'servic fine waitress friendli', 'guy steak steak love son steak best worst place said best steak ever eaten', 'thought ventur away get good sushi place realli hit spot night', 'host staff lack better word bitch', 'bland not like place number reason want wast time bad review leav', 'phenomen food servic ambianc', 'return', 'definit worth ventur strip pork belli return next time vega', 'place way overpr mediocr food', 'penn vodka excel', 'good select food includ massiv meatloaf sandwich crispi chicken wrap delish tuna melt tasti burger', 'manag rude', 'delici nyc bagel good select cream chees real lox caper even', 'great subway fact good come everi subway not meet expect', 'serious solid breakfast', 'one best bar food vega', 'extrem rude realli mani restaur would love dine weekend vega', 'drink never empti made realli great menu suggest', '', 'waiter help friendli rare check us', 'husband ate lunch disappoint food servic', 'red curri much bamboo shoot tasti', 'nice blanket moz top feel like done cover subpar food', 'bathroom clean place well decor', 'menu alway chang food qualiti go servic extrem slow', 'servic littl slow consid serv peopl server food come slow pace', 'give thumb', 'watch waiter pay lot attent tabl ignor us', 'fianc came middl day greet seat right away', 'great restaur mandalay bay', 'wait forti five minut vain', 'crostini came salad stale', 'highlight great qualiti nigiri', 'staff friendli joint alway clean', 'differ cut piec day still wonder tender well well flavor', 'order voodoo pasta first time realli excel pasta sinc go gluten free sever year ago', 'place good', 'unfortun must hit bakeri leftov day everyth order stale', 'came back today sinc reloc still not impress', 'seat immedi', 'menu divers reason price', 'avoid cost', 'restaur alway full never wait', 'delici', 'place hand one best place eat phoenix metro area', 'go look good food', 'never treat bad', 'bacon hella salti', 'also order spinach avocado salad ingredi sad dress liter zero tast', 'realli vega fine dine use right menu hand ladi price list', 'waitress friendli', 'lordi khao soi dish not miss curri lover', 'everyth menu terrif also thrill made amaz accommod vegetarian daughter', 'perhap caught night judg review not inspir go back', 'servic leav lot desir', 'atmospher modern hip maintain touch cozi', 'not weekli haunt definit place come back everi', 'liter sat minut one ask take order', 'burger absolut flavor meat total bland burger overcook charcoal flavor', 'also decid not send back waitress look like verg heart attack', 'dress treat rude', 'probabl dirt', 'love place hit spot want someth healthi not lack quantiti flavor', 'order lemon raspberri ice cocktail also incred', 'food suck expect suck could imagin', 'interest decor', 'realli like crepe station', 'also serv hot bread butter home made potato chip bacon bit top origin good', 'watch prepar delici food', 'egg roll fantast', 'order arriv one gyro miss', 'salad wing ice cream dessert left feel quit satisfi', 'not realli sure joey vote best hot dog valley reader phoenix magazin', 'best place go tasti bowl pho', 'live music friday total blow', 'never insult felt disrespect', 'friendli staff', 'worth drive', 'heard good thing place exceed everi hope could dream', 'food great serivc', 'warm beer help', 'great brunch spot', 'servic friendli invit', 'good lunch spot', 'live sinc first last time step foot place', 'worst experi ever', 'must night place', 'side delish mix mushroom yukon gold pure white corn beateou', 'bug never show would given sure side wall bug climb kitchen', 'minut wait salad realiz come time soon', 'friend love salmon tartar', 'go back', 'extrem tasti', 'waitress good though', 'soggi not good', 'jamaican mojito delici', 'small not worth price', 'food rich order accordingli', 'shower area outsid rins not take full shower unless mind nude everyon see', 'servic bit lack', 'lobster bisqu bussel sprout risotto filet need salt pepper cours none tabl', 'hope bode go busi someon cook come', 'either cold not enough flavor bad', 'love bacon wrap date', 'unbeliev bargain', 'folk otto alway make us feel welcom special', 'main also uninspir', 'place first pho amaz', 'wonder experi made place must stop whenev town', 'food bad enough enjoy deal world worst annoy drunk peopl', 'fun chef', 'order doubl cheeseburg got singl patti fall apart pictur upload yeah still suck', 'great place coupl drink watch sport event wall cover tv', 'possibl give zero star', 'descript said yum yum sauc anoth said eel sauc yet anoth said spici mayo well none roll sauc', 'say would hardest decis honestli dish tast suppos tast amaz', 'not roll eye may stay not sure go back tri', 'everyon attent provid excel custom servic', 'horribl wast time money', 'dish quit flavour', 'time side restaur almost empti excus', 'busi either also build freez cold', 'like review said pay eat place', 'drink took close minut come one point', 'serious flavor delight folk', 'much better ayc sushi place went vega', 'light dark enough set mood', 'base sub par servic receiv effort show gratitud busi go back', 'owner realli great peopl', 'noth privileg work eat', 'greek dress creami flavor', 'overal think would take parent place made similar complaint silent felt', 'pizza good peanut sauc tasti', 'tabl servic pretti fast', 'fantast servic', 'well would given godfath zero star possibl', 'know make', 'tough short flavor', 'hope place stick around', 'bar vega not ever recal charg tap water', 'restaur atmospher exquisit', 'good servic clean inexpens boot', 'seafood fresh gener portion', 'plu buck', 'servic not par either', 'thu far visit twice food absolut delici time', 'good year ago', 'self proclaim coffe cafe wildli disappoint', 'veggitarian platter world', 'cant go wrong food', 'beat', 'stop place madison ironman friendli kind staff', 'chef friendli good job', 'better not dedic boba tea spot even jenni pho', 'like patio servic outstand', 'goat taco skimp meat wow flavor', 'think not', 'mac salad pretti bland not get', 'went bachi burger friend recommend not disappoint', 'servic stink', 'wait wait', 'place not qualiti sushi not qualiti restaur', 'would definit recommend wing well pizza', 'great pizza salad', 'thing went wrong burn saganaki', 'wait hour breakfast could done time better home', 'place amaz', 'hate disagre fellow yelper husband disappoint place', 'wait hour never got either pizza mani around us came later', 'know slow', 'staff great food delish incred beer select', 'live neighborhood disappoint back conveni locat', 'know pull pork could soooo delici', 'get incred fresh fish prepar care', 'go gave star rate pleas know third time eat bachi burger write review', 'love fact everyth menu worth', 'never dine place', 'food excel servic good', 'good beer drink select good food select', 'pleas stay away shrimp stir fri noodl', 'potato chip order sad could probabl count mani chip box probabl around', 'food realli bore', 'good servic check', 'greedi corpor never see anoth dime', 'never ever go back', 'much like go back get pass atroci servic never return', 'summer dine charm outdoor patio delight', 'not expect good', 'fantast food', 'order toast english muffin came untoast', 'food good', 'never go back', 'great food price high qualiti hous made', 'bu boy hand rude', 'point friend basic figur place joke mind make publicli loudli known', 'back good bbq lighter fare reason price tell public back old way', 'consid two us left full happi go wrong', 'bread made hous', 'downsid servic', 'also fri without doubt worst fri ever', 'servic except food good review', 'coupl month later return amaz meal', 'favorit place town shawarrrrrrma', 'black eye pea sweet potato unreal', 'disappoint', 'could serv vinaigrett may make better overal dish still good', 'go far mani place never seen restaur serv egg breakfast especi', 'mom got home immedi got sick bite salad', 'server not pleasant deal alway honor pizza hut coupon', 'truli unbeliev good glad went back', 'fantast servic pleas atmospher', 'everyth gross', 'love place', 'great servic food', 'first bathroom locat dirti seat cover not replenish plain yucki', 'burger got gold standard burger kind disappoint', 'omg food delicioso', 'noth authent place', 'spaghetti noth special whatsoev', 'dish salmon best great', 'veget fresh sauc feel like authent thai', 'worth drive tucson', 'select probabl worst seen vega none', 'pretti good beer select', 'place like chipotl better', 'classi warm atmospher fun fresh appet succul steak basebal steak', 'star brick oven bread app', 'eaten multipl time time food delici', 'sat anoth ten minut final gave left', 'terribl', 'everyon treat equal special', 'take min pancak egg', 'delici', 'good side staff genuin pleasant enthusiast real treat', 'sadli gordon ramsey steak place shall sharpli avoid next trip vega', 'alway even wonder food delici', 'best fish ever life', 'bathroom next door nice', 'buffet small food offer bland', 'outstand littl restaur best food ever tast', 'pretti cool would say', 'definit turn doubt back unless someon els buy', 'server great job handl larg rowdi tabl', 'find wast food despic food', 'wife lobster bisqu soup lukewarm', 'would come back sushi crave vega', 'staff great ambianc great', 'deserv star', 'left stomach ach felt sick rest day', 'drop ball', 'dine space tini elegantli decor comfort', 'custom order way like usual eggplant green bean stir fri love', 'bean rice mediocr best', 'best taco town far', 'took back money got outta', 'interest part town place amaz', 'rude inconsider manag', 'staff not friendli wait time serv horribl one even say hi first minut', 'back', 'great dinner', 'servic outshin definit recommend halibut', 'food terribl', 'never ever go back told mani peopl happen', 'recommend unless car break front starv', 'come back everi time vega', 'place deserv one star food', 'disgrac', 'def come back bowl next time', 'want healthi authent ethic food tri place', 'continu come ladi night andddd date night highli recommend place anyon area', 'sever time past experi alway great', 'walk away stuf happi first vega buffet experi', 'servic excel price pretti reason consid vega locat insid crystal shop mall aria', 'summar food incred nay transcend noth bring joy quit like memori pneumat condiment dispens', 'probabl one peopl ever go ian not like', 'kid pizza alway hit lot great side dish option kiddo', 'servic perfect famili atmospher nice see', 'cook perfect servic impecc', 'one simpli disappoint', 'overal disappoint qualiti food bouchon', 'account know get screw', 'great place eat remind littl mom pop shop san francisco bay area', 'today first tast buldogi gourmet hot dog tell ever thought possibl', 'left frustrat', 'definit soon', 'food realli good got full petti fast', 'servic fantast', 'total wast time', 'know kind best ice tea', 'come hungri leav happi stuf', 'servic give star', 'assur disappoint', 'take littl bad servic food suck', 'gave tri eat crust teeth still sore', 'complet gross', 'realli enjoy eat', 'first time go think quickli becom regular', 'server nice even though look littl overwhelm need stay profession friendli end', 'dinner companion told everyth fresh nice textur tast', 'ground right next tabl larg smear step track everywher pile green bird poop', 'furthermor even find hour oper websit', 'tri like place time think done', 'mistak', 'complaint', 'serious good pizza expert connisseur topic', 'waiter jerk', 'strike want rush', 'nicest restaur owner ever come across', 'never come', 'love biscuit', 'servic quick friendli', 'order appet took minut pizza anoth minut', 'absolutley fantast', 'huge awkward lb piec cow th gristl fat', 'definit come back', 'like steiner dark feel like bar', 'wow spici delici', 'not familiar check', 'take busi dinner dollar elsewher', 'love go back', 'anyway fs restaur wonder breakfast lunch', 'noth special', 'day week differ deal delici', 'not mention combin pear almond bacon big winner', 'not back', 'sauc tasteless', 'food delici spici enough sure ask spicier prefer way', 'ribey steak cook perfectli great mesquit flavor', 'think go back anytim soon', 'food gooodd', 'far sushi connoisseur definit tell differ good food bad food certainli bad food', 'insult', 'last time lunch bad', 'chicken wing contain driest chicken meat ever eaten', 'food good enjoy everi mouth enjoy relax venu coupl small famili group etc', 'nargil think great', 'best tater tot southwest', 'love place', 'definit not worth paid', 'vanilla ice cream creami smooth profiterol choux pastri fresh enough', 'im az time new spot', 'manag worst', 'insid realli quit nice clean', 'food outstand price reason', 'think run back carli anytim soon food', 'due fact took minut acknowledg anoth minut get food kept forget thing', 'love margarita', 'first vega buffet not disappoint', 'good though', 'one note ventil could use upgrad', 'great pork sandwich', 'wast time', 'total letdown would much rather go camelback flower shop cartel coffe', 'third chees friend burger cold', 'enjoy pizza brunch', 'steak well trim also perfectli cook', 'group claim would handl us beauti', 'love', 'ask bill leav without eat bring either', 'place jewel la vega exactli hope find nearli ten year live', 'seafood limit boil shrimp crab leg crab leg definit not tast fresh', 'select food not best', 'delici absolut back', 'small famili restaur fine dine establish', 'toro tartar cavier extraordinari like thinli slice wagyu white truffl', 'dont think back long time', 'attach ga station rare good sign', 'awesom', 'back mani time soon', 'menu much good stuff could not decid', 'wors humili worker right front bunch horribl name call', 'conclus fill meal', 'daili special alway hit group', 'tragedi struck', 'pancak also realli good pretti larg', 'first crawfish experi delici', 'monster chicken fri steak egg time favorit', 'waitress sweet funni', 'also tast mom multi grain pumpkin pancak pecan butter amaz fluffi delici', 'rather eat airlin food serious', 'cant say enough good thing place', 'ambianc incred', 'waitress manag friendli', 'would not recommend place', 'overal impress noca', 'gyro basic lettuc', 'terribl servic', 'thoroughli disappoint', 'much pasta love homemad hand made pasta thin pizza', 'give tri happi', 'far best cheesecurd ever', 'reason price also', 'everyth perfect night', 'food good typic bar food', 'drive get', 'first glanc love bakeri cafe nice ambianc clean friendli staff', 'anyway not think go back', 'point finger item menu order disappoint', 'oh thing beauti restaur', 'gone go', 'greasi unhealthi meal', 'first time might last', 'burger amaz', 'similarli deliveri man not say word apolog food minut late', 'way expens', 'sure order dessert even need pack go tiramisu cannoli die', 'first time wait next', 'bartend also nice', 'everyth good tasti', 'place two thumb way', 'best place vega breakfast check sat sun', 'love authent mexican food want whole bunch interest yet delici meat choos need tri place', 'terribl manag', 'excel new restaur experienc frenchman', 'zero star would give zero star', 'great steak great side great wine amaz dessert', 'worst martini ever', 'steak shrimp opinion best entre gc', 'opportun today sampl amaz pizza', 'wait thirti minut seat although vacant tabl folk wait', 'yellowtail carpaccio melt mouth fresh', 'tri go back even empti', 'go eat potato found stranger hair', 'spici enough perfect actual', 'last night second time dine happi decid go back', 'not even hello right', 'dessert bit strang', 'boyfriend came first time recent trip vega could not pleas qualiti food servic', 'realli recommend place go wrong donut place', 'nice ambianc', 'would recommend save room', 'guess mayb went night disgrac', 'howev recent experi particular locat not good', 'know not like restaur someth', 'avoid establish', 'think restaur suffer not tri hard enough', 'tapa dish delici', 'heart place', 'salad bland vinegrett babi green heart palm', 'two felt disgust', 'good time', 'believ place great stop huge belli hanker sushi', 'gener portion great tast', 'never go back place never ever recommend place anyon', 'server went back forth sever time not even much help', 'food delici', 'hour serious', 'consid theft', 'eew locat need complet overhaul', 'recent wit poor qualiti manag toward guest well', 'wait wait wait', 'also came back check us regularli excel servic', 'server super nice check us mani time', 'pizza tast old super chewi not good way', 'swung give tri deepli disappoint', 'servic good compani better', 'staff also friendli effici', 'servic fan quick serv nice folk', 'boy sucker dri', 'rate', 'look authent thai food go els', 'steak recommend', 'pull car wait anoth minut acknowledg', 'great food great servic clean friendli set', 'assur back', 'hate thing much cheap qualiti black oliv', 'breakfast perpar great beauti present giant slice toast lightli dust powder sugar', 'kid play area nasti', 'great place fo take eat', 'waitress friendli happi accomod vegan veggi option', 'omg felt like never eaten thai food dish', 'extrem crumbi pretti tasteless', 'pale color instead nice char flavor', 'crouton also tast homemad extra plu', 'got home see driest damn wing ever', 'regular stop trip phoenix', 'realli enjoy crema caf expand even told friend best breakfast', 'not good money', 'miss wish one philadelphia', 'got sit fairli fast end wait minut place order anoth minut food arriv', 'also best chees crisp town', 'good valu great food great servic', 'ask satisfi meal', 'food good', 'awesom', 'want leav', 'made drive way north scottsdal not one bit disappoint', 'not eat', 'owner realli realli need quit soooooo cheap let wrap freak sandwich two paper not one', 'check place coupl year ago not impress', 'chicken got definit reheat ok wedg cold soggi', 'sorri not get food anytim soon', 'absolut must visit', 'cow tongu cheek taco amaz', 'friend not like bloodi mari', 'despit hard rate busi actual rare give star', 'realli want make experi good one', 'not return', 'chicken pho tast bland', 'disappoint', 'grill chicken tender yellow saffron season', 'drive thru mean not want wait around half hour food somehow end go make us wait wait', 'pretti awesom place', 'ambienc perfect', 'best luck rude non custom servic focus new manag', 'grandmoth make roast chicken better one', 'ask multipl time wine list time ignor went hostess got one', 'staff alway super friendli help especi cool bring two small boy babi', 'four star food guy blue shirt great vibe still let us eat', 'roast beef sandwich tast realli good', 'even drastic sick', 'high qualiti chicken chicken caesar salad', 'order burger rare came done', 'promptli greet seat', 'tri go lunch madhous', 'proven dead wrong sushi bar not qualiti great servic fast food impecc', 'wait hour seat not greatest mood', 'good joint', 'macaron insan good', 'not eat', 'waiter attent friendli inform', 'mayb cold would somewhat edibl', 'place lot promis fail deliv', 'bad experi', 'mistak', 'food averag best', 'great food', 'go back anytim soon', 'disappoint order big bay plater', 'great place relax awesom burger beer', 'perfect sit famili meal get togeth friend', 'not much flavor poorli construct', 'patio seat comfort', 'fri rice dri well', 'hand favorit italian restaur', 'scream legit book somethat also pretti rare vega', 'not fun experi', 'atmospher great love duo violinist play song request', 'person love hummu pita baklava falafel baba ganoush amaz eggplant', 'conveni sinc stay mgm', 'owner super friendli staff courteou', 'great', 'eclect select', 'sweet potato tot good onion ring perfect close', 'staff attent', 'chef gener time even came around twice take pictur', 'owner use work nobu place realli similar half price', 'googl mediocr imagin smashburg pop', 'dont go', 'promis disappoint', 'sushi lover avoid place mean', 'great doubl cheeseburg', 'awesom servic food', 'fantast neighborhood gem', 'wait go back', 'plantain worst ever tast', 'great place highli recommend', 'servic slow not attent', 'gave star give star', 'staff spend time talk', 'dessert panna cotta amaz', 'good food great atmospher', 'damn good steak', 'total brunch fail', 'price reason flavor spot sauc home made slaw not drench mayo', 'decor nice piano music soundtrack pleasant', 'steak amaz rge fillet relleno best seafood plate ever', 'good food good servic', 'absolut amaz', 'probabl back honest', 'definit back', 'sergeant pepper beef sandwich auju sauc excel sandwich well', 'hawaiian breez mango magic pineappl delight smoothi tri far good', 'went lunch servic slow', 'much say place walk expect amaz quickli disappoint', 'mortifi', 'needless say never back', 'anyway food definit not fill price pay expect', 'chip came drip greas mostli not edibl', 'realli impress strip steak', 'go sinc everi meal awesom', 'server nice attent serv staff', 'cashier friendli even brought food', 'work hospit industri paradis valley refrain recommend cibo longer', 'atmospher fun', 'would not recommend other', 'servic quick even go order like like', 'mean realli get famou fish chip terribl', 'said mouth belli still quit pleas', 'not thing', 'thumb', 'read pleas go', 'love grill pizza remind legit italian pizza', 'pro larg seat area nice bar area great simpl drink menu best brick oven pizza homemad dough', 'realli nice atmospher', 'tonight elk filet special suck', 'one bite hook', 'order old classic new dish go time sore disappoint everyth', 'cute quaint simpl honest', 'chicken delici season perfect fri outsid moist chicken insid', 'food great alway compliment chef', 'special thank dylan recommend order yummi tummi', 'awesom select beer', 'great food awesom servic', 'one nice thing ad gratuiti bill sinc parti larger expect tip', 'fli appl juic fli', 'han nan chicken also tasti', 'servic thought good', 'food bare lukewarm must sit wait server bring us', 'ryan bar definit one edinburgh establish revisit', 'nicest chines restaur', 'overal like food servic', 'also serv indian naan bread hummu spici pine nut sauc world', 'probabl never come back recommend', 'friend pasta also bad bare touch', 'tri airport experi tasti food speedi friendli servic', 'love decor chines calligraphi wall paper', 'never anyth complain', 'restaur clean famili restaur feel', 'way fri', 'not sure long stood long enough begin feel awkwardli place', 'open sandwich impress not good way', 'not back', 'warm feel servic felt like guest special treat', 'extens menu provid lot option breakfast', 'alway order vegetarian menu dinner wide array option choos', 'watch price inflat portion get smaller manag attitud grow rapidli', 'wonder lil tapa ambienc made feel warm fuzzi insid', 'got enjoy seafood salad fabul vinegrett', 'wonton thin not thick chewi almost melt mouth', 'level spici perfect spice whelm soup', 'sat right time server get go fantast', 'main thing enjoy crowd older crowd around mid', 'side town definit spot hit', 'wait minut get drink longer get arepa', 'great place eat', 'jalapeno bacon soooo good', 'servic poor that nice', 'food good servic good price good', 'place not clean food oh stale', 'chicken dish ok beef like shoe leather', 'servic beyond bad', 'happi', 'tast like dirt', 'one place phoenix would defin go back', 'block amaz', 'close hous low key non fanci afford price good food', 'hot sour egg flower soup absolut star', 'sashimi poor qualiti soggi tasteless', 'great time famili dinner sunday night', 'food not tasti not say real tradit hunan style', 'bother slow servic', 'flair bartend absolut amaz', 'frozen margarita way sugari tast', 'good order twice', 'nutshel restaraunt smell like combin dirti fish market sewer', 'girlfriend veal bad', 'unfortun not good', 'pretti satifi experi', 'join club get awesom offer via email', 'perfect someon like beer ice cold case even colder', 'bland flavorless good way describ bare tepid meat', 'chain fan beat place easili', 'nacho must', 'not come back', 'mani word say place everyth pretti well', 'staff super nice quick even crazi crowd downtown juri lawyer court staff', 'great atmospher friendli fast servic', 'receiv pita huge lot meat thumb', 'food arriv meh', 'pay hot dog fri look like came kid meal wienerschnitzel not idea good meal', 'classic main lobster roll fantast', 'brother law work mall ate day guess sick night', 'good go review place twice herea tribut place tribut event held last night', 'chip salsa realli good salsa fresh', 'place great', 'mediocr food', 'get insid impress place', 'super pissd', 'servic super friendli', 'sad littl veget overcook', 'place nice surpris', 'golden crispi delici', 'high hope place sinc burger cook charcoal grill unfortun tast fell flat way flat', 'could eat bruschetta day devin', 'not singl employe came see ok even need water refil final serv us food', 'lastli mozzarella stick best thing order', 'first time ever came amaz experi still tell peopl awesom duck', 'server neglig need made us feel unwelcom would not suggest place', 'servic terribl though', 'place overpr not consist boba realli overpr', 'pack', 'say dessert yummi', 'season fruit fresh white peach pure', 'kept get wors wors offici done', 'place honestli blown', 'definit would not eat', 'not wast money', 'love put food nice plastic contain oppos cram littl paper takeout box', 'cr pe delic thin moist', 'aw servic', 'ever go', 'food qualiti horribl', 'price think place would much rather gone', 'servic fair best', 'love sushi found kabuki price hip servic', 'favor stay away dish', 'poor servic', 'one tabl thought food averag worth wait', 'best servic food ever maria server good friendli made day', 'excel', 'paid bill not tip felt server terribl job', 'lunch great experi', 'never bland food surpris consid articl read focus much spice flavor', 'food way overpr portion fuck small', 'recent tri caballero back everi week sinc', 'buck head realli expect better food', 'food came good pace', 'ate twice last visit especi enjoy salmon salad', 'could not believ dirti oyster', 'place deserv star', 'fact go round star awesom', 'disbelief dish qualifi worst version food ever tast', 'bad day not low toler rude custom servic peopl job nice polit wash dish otherwis', 'potato great biscuit', 'probabl would not go', 'flavor perfect amount heat', 'price reason servic great', 'wife hate meal coconut shrimp friend realli not enjoy meal either', 'fella got huevo ranchero look appeal', 'went happi hour great list wine', 'may say buffet pricey think get pay place get quit lot', 'probabl come back', 'worst food servic', 'place pretti good nice littl vibe restaur', 'talk great custom servic cours back', 'hot dish not hot cold dish close room temp watch staff prepar food bare hand glove everyth deep fri oil', 'love fri bean', 'alway pleasur deal', 'plethora salad sandwich everyth tri get seal approv', 'place awesom want someth light healthi summer', 'sushi strip place go', 'servic great even manag came help tabl', 'feel dine room colleg cook cours high class dine servic slow best', 'start review two star edit give one', 'worst sushi ever eat besid costco', 'excel restaur highlight great servic uniqu menu beauti set', 'boyfriend sat bar complet delight experi', 'weird vibe owner', 'hardli meat', 'better bagel groceri store', 'go place gyro', 'love owner chef one authent japanes cool dude', 'burger good pizza use amaz doughi flavorless', 'found six inch long piec wire salsa', 'servic terribl food mediocr', 'defin enjoy', 'order albondiga soup warm tast like tomato soup frozen meatbal', 'three differ occas ask well done medium well three time got bloodiest piec meat plate', 'two bite refus eat anymor', 'servic extrem slow', 'minut wait got tabl', 'serious killer hot chai latt', 'allergi warn menu waitress absolut clue meal not contain peanut', 'boyfriend tri mediterranean chicken salad fell love', 'rotat beer tap also highlight place', 'price bit concern mellow mushroom', 'worst thai ever', 'stay vega must get breakfast least', 'want first say server great perfect servic', 'pizza select good', 'strawberri tea good', 'highli unprofession rude loyal patron', 'overal great experi', 'spend money elsewher', 'regular toast bread equal satisfi occasion pat butter mmmm', 'buffet bellagio far anticip', 'drink weak peopl', 'order not correct', 'also feel like chip bought not made hous', 'disappoint dinner went elsewher dessert', 'chip sal amaz', 'return', 'new fav vega buffet spot', 'serious cannot believ owner mani unexperienc employe run around like chicken head cut', 'sad', 'felt insult disrespect could talk judg anoth human like', 'call steakhous properli cook steak understand', 'not impress concept food', 'thing crazi guacamol like pur ed', 'realli noth postino hope experi better', 'got food poison buffet', 'brought fresh batch fri think yay someth warm', 'hilari yummi christma eve dinner rememb biggest fail entir trip us', 'needless say go back anytim soon', 'place disgust', 'everi time eat see care teamwork profession degre', 'ri style calamari joke', 'howev much garlic fondu bare edibl', 'could bare stomach meal complain busi lunch', 'bad lost heart finish', 'also took forev bring us check ask', 'one make scene restaur get definit lost love one', 'disappoint experi', 'food par denni say not good', 'want wait mediocr food downright terribl servic place', 'waaaaaayyyyyyyyyi rate say', 'go back', 'place fairli clean food simpli worth', 'place lack style', 'sangria half glass wine full ridicul', 'bother come', 'meat pretti dri slice brisket pull pork', 'build seem pretti neat bathroom pretti trippi eat', 'equal aw', 'probabl not hurri go back', 'slow seat even reserv', 'not good stretch imagin', 'cashew cream sauc bland veget undercook', 'chipolt ranch dip saus tasteless seem thin water heat', 'bit sweet not realli spici enough lack flavor', 'disappoint', 'place horribl way overpr', 'mayb vegetarian fare twice thought averag best', 'busi know', 'tabl outsid also dirti lot time worker not alway friendli help menu', 'ambianc not feel like buffet set douchey indoor garden tea biscuit', 'con spotti servic', 'fri not hot neither burger', 'came back cold', 'food came disappoint ensu', 'real disappoint waiter', 'husband said rude not even apolog bad food anyth', 'reason eat would fill night bing drink get carb stomach', 'insult profound deuchebaggeri go outsid smoke break serv solidifi', 'someon order two taco think may part custom servic ask combo ala cart', 'quit disappoint although blame need place door', 'rave review wait eat disappoint', 'del taco pretti nasti avoid possibl', 'not hard make decent hamburg', 'like', 'hell go back', 'gotten much better servic pizza place next door servic receiv restaur', 'know big deal place back ya', 'immedi said want talk manag not want talk guy shot firebal behind bar', 'ambianc much better', 'unfortun set us disapppoint entre', 'food good', 'server suck wait correct server heimer suck', 'happen next pretti put', 'bad caus know famili own realli want like place', 'overpr get', 'vomit bathroom mid lunch', 'kept look time soon becom minut yet still food', 'place eat circumst would ever return top list', 'start tuna sashimi brownish color obvious fresh', 'food averag', 'sure beat nacho movi would expect littl bit come restaur', 'ha long bay bit flop', 'problem charg sandwich bigger subway sub offer better amount veget', 'shrimp unwrap live mile brushfir liter ice cold', 'lack flavor seem undercook dri', 'realli impress place close', 'would avoid place stay mirag', 'refri bean came meal dri crusti food bland', 'spend money time place els', 'ladi tabl next us found live green caterpillar salad', 'present food aw', 'tell disappoint', 'think food flavor textur lack', 'appetit instantli gone', 'overal not impress would not go back', 'whole experi underwhelm think go ninja sushi next time', 'wast enough life pour salt wound draw time took bring check']\n"
          ],
          "name": "stdout"
        }
      ]
    },
    {
      "cell_type": "code",
      "metadata": {
        "colab": {
          "base_uri": "https://localhost:8080/",
          "height": 206
        },
        "id": "Kzzssayg8Bgk",
        "outputId": "02820dad-cab7-455f-e2bf-eeaf1ee933f4"
      },
      "source": [
        "#Adding Stemmed cleaned review in Dataset\n",
        "ds['stem_cleaned_review'] = stem_corpus\n",
        "ds.head()"
      ],
      "execution_count": 14,
      "outputs": [
        {
          "output_type": "execute_result",
          "data": {
            "text/html": [
              "<div>\n",
              "<style scoped>\n",
              "    .dataframe tbody tr th:only-of-type {\n",
              "        vertical-align: middle;\n",
              "    }\n",
              "\n",
              "    .dataframe tbody tr th {\n",
              "        vertical-align: top;\n",
              "    }\n",
              "\n",
              "    .dataframe thead th {\n",
              "        text-align: right;\n",
              "    }\n",
              "</style>\n",
              "<table border=\"1\" class=\"dataframe\">\n",
              "  <thead>\n",
              "    <tr style=\"text-align: right;\">\n",
              "      <th></th>\n",
              "      <th>Review</th>\n",
              "      <th>Liked</th>\n",
              "      <th>lemm_cleaned_review</th>\n",
              "      <th>stem_cleaned_review</th>\n",
              "    </tr>\n",
              "  </thead>\n",
              "  <tbody>\n",
              "    <tr>\n",
              "      <th>0</th>\n",
              "      <td>Wow... Loved this place.</td>\n",
              "      <td>1</td>\n",
              "      <td>wow loved place</td>\n",
              "      <td>wow love place</td>\n",
              "    </tr>\n",
              "    <tr>\n",
              "      <th>1</th>\n",
              "      <td>Crust is not good.</td>\n",
              "      <td>0</td>\n",
              "      <td>crust not good</td>\n",
              "      <td>crust not good</td>\n",
              "    </tr>\n",
              "    <tr>\n",
              "      <th>2</th>\n",
              "      <td>Not tasty and the texture was just nasty.</td>\n",
              "      <td>0</td>\n",
              "      <td>not tasty texture nasty</td>\n",
              "      <td>not tasti textur nasti</td>\n",
              "    </tr>\n",
              "    <tr>\n",
              "      <th>3</th>\n",
              "      <td>Stopped by during the late May bank holiday of...</td>\n",
              "      <td>1</td>\n",
              "      <td>stopped late may bank holiday rick steve recom...</td>\n",
              "      <td>stop late may bank holiday rick steve recommen...</td>\n",
              "    </tr>\n",
              "    <tr>\n",
              "      <th>4</th>\n",
              "      <td>The selection on the menu was great and so wer...</td>\n",
              "      <td>1</td>\n",
              "      <td>selection menu great price</td>\n",
              "      <td>select menu great price</td>\n",
              "    </tr>\n",
              "  </tbody>\n",
              "</table>\n",
              "</div>"
            ],
            "text/plain": [
              "                                              Review  ...                                stem_cleaned_review\n",
              "0                           Wow... Loved this place.  ...                                     wow love place\n",
              "1                                 Crust is not good.  ...                                     crust not good\n",
              "2          Not tasty and the texture was just nasty.  ...                             not tasti textur nasti\n",
              "3  Stopped by during the late May bank holiday of...  ...  stop late may bank holiday rick steve recommen...\n",
              "4  The selection on the menu was great and so wer...  ...                            select menu great price\n",
              "\n",
              "[5 rows x 4 columns]"
            ]
          },
          "metadata": {
            "tags": []
          },
          "execution_count": 14
        }
      ]
    },
    {
      "cell_type": "code",
      "metadata": {
        "colab": {
          "base_uri": "https://localhost:8080/"
        },
        "id": "-SpPpXZJ5vnE",
        "outputId": "28e73f67-c631-4d81-e941-7362e68e1ddf"
      },
      "source": [
        "#Sentiment Intensity Analyzer\n",
        "from nltk.sentiment.vader import SentimentIntensityAnalyzer\n",
        "sid = SentimentIntensityAnalyzer()\n"
      ],
      "execution_count": 15,
      "outputs": [
        {
          "output_type": "stream",
          "text": [
            "/usr/local/lib/python3.6/dist-packages/nltk/twitter/__init__.py:20: UserWarning: The twython library has not been installed. Some functionality from the twitter package will not be available.\n",
            "  warnings.warn(\"The twython library has not been installed. \"\n"
          ],
          "name": "stderr"
        }
      ]
    },
    {
      "cell_type": "code",
      "metadata": {
        "colab": {
          "base_uri": "https://localhost:8080/",
          "height": 293
        },
        "id": "2ZYK-zfE5vrM",
        "outputId": "97748342-d6ac-4c8b-f656-0d5d9d598f07"
      },
      "source": [
        "#Creating Columns for Scores and Compound Scores for each of the 3 types of inputs (Without Removing Stopwords, Lemmatized + Cleaned, Stemmed + Clean)\n",
        "ds['scores1'] = ds['Review'].apply(lambda Review: sid.polarity_scores(Review))\n",
        "ds['scores2'] = ds['lemm_cleaned_review'].apply(lambda lemm_cleaned_review: sid.polarity_scores(lemm_cleaned_review))\n",
        "ds['scores3'] = ds['stem_cleaned_review'].apply(lambda stem_cleaned_review: sid.polarity_scores(stem_cleaned_review))\n",
        "\n",
        "\n",
        "ds['compound1']  = ds['scores1'].apply(lambda score_dict: score_dict['compound'])\n",
        "ds['compound2']  = ds['scores2'].apply(lambda score_dict: score_dict['compound'])\n",
        "ds['compound3']  = ds['scores3'].apply(lambda score_dict: score_dict['compound'])\n",
        "\n",
        "ds.head()"
      ],
      "execution_count": 16,
      "outputs": [
        {
          "output_type": "execute_result",
          "data": {
            "text/html": [
              "<div>\n",
              "<style scoped>\n",
              "    .dataframe tbody tr th:only-of-type {\n",
              "        vertical-align: middle;\n",
              "    }\n",
              "\n",
              "    .dataframe tbody tr th {\n",
              "        vertical-align: top;\n",
              "    }\n",
              "\n",
              "    .dataframe thead th {\n",
              "        text-align: right;\n",
              "    }\n",
              "</style>\n",
              "<table border=\"1\" class=\"dataframe\">\n",
              "  <thead>\n",
              "    <tr style=\"text-align: right;\">\n",
              "      <th></th>\n",
              "      <th>Review</th>\n",
              "      <th>Liked</th>\n",
              "      <th>lemm_cleaned_review</th>\n",
              "      <th>stem_cleaned_review</th>\n",
              "      <th>scores1</th>\n",
              "      <th>scores2</th>\n",
              "      <th>scores3</th>\n",
              "      <th>compound1</th>\n",
              "      <th>compound2</th>\n",
              "      <th>compound3</th>\n",
              "    </tr>\n",
              "  </thead>\n",
              "  <tbody>\n",
              "    <tr>\n",
              "      <th>0</th>\n",
              "      <td>Wow... Loved this place.</td>\n",
              "      <td>1</td>\n",
              "      <td>wow loved place</td>\n",
              "      <td>wow love place</td>\n",
              "      <td>{'neg': 0.0, 'neu': 0.435, 'pos': 0.565, 'comp...</td>\n",
              "      <td>{'neg': 0.0, 'neu': 0.115, 'pos': 0.885, 'comp...</td>\n",
              "      <td>{'neg': 0.0, 'neu': 0.111, 'pos': 0.889, 'comp...</td>\n",
              "      <td>0.5994</td>\n",
              "      <td>0.8271</td>\n",
              "      <td>0.8402</td>\n",
              "    </tr>\n",
              "    <tr>\n",
              "      <th>1</th>\n",
              "      <td>Crust is not good.</td>\n",
              "      <td>0</td>\n",
              "      <td>crust not good</td>\n",
              "      <td>crust not good</td>\n",
              "      <td>{'neg': 0.445, 'neu': 0.555, 'pos': 0.0, 'comp...</td>\n",
              "      <td>{'neg': 0.546, 'neu': 0.454, 'pos': 0.0, 'comp...</td>\n",
              "      <td>{'neg': 0.546, 'neu': 0.454, 'pos': 0.0, 'comp...</td>\n",
              "      <td>-0.3412</td>\n",
              "      <td>-0.3412</td>\n",
              "      <td>-0.3412</td>\n",
              "    </tr>\n",
              "    <tr>\n",
              "      <th>2</th>\n",
              "      <td>Not tasty and the texture was just nasty.</td>\n",
              "      <td>0</td>\n",
              "      <td>not tasty texture nasty</td>\n",
              "      <td>not tasti textur nasti</td>\n",
              "      <td>{'neg': 0.34, 'neu': 0.66, 'pos': 0.0, 'compou...</td>\n",
              "      <td>{'neg': 0.0, 'neu': 0.506, 'pos': 0.494, 'comp...</td>\n",
              "      <td>{'neg': 0.0, 'neu': 1.0, 'pos': 0.0, 'compound...</td>\n",
              "      <td>-0.5574</td>\n",
              "      <td>0.4449</td>\n",
              "      <td>0.0000</td>\n",
              "    </tr>\n",
              "    <tr>\n",
              "      <th>3</th>\n",
              "      <td>Stopped by during the late May bank holiday of...</td>\n",
              "      <td>1</td>\n",
              "      <td>stopped late may bank holiday rick steve recom...</td>\n",
              "      <td>stop late may bank holiday rick steve recommen...</td>\n",
              "      <td>{'neg': 0.093, 'neu': 0.585, 'pos': 0.322, 'co...</td>\n",
              "      <td>{'neg': 0.131, 'neu': 0.414, 'pos': 0.455, 'co...</td>\n",
              "      <td>{'neg': 0.133, 'neu': 0.301, 'pos': 0.566, 'co...</td>\n",
              "      <td>0.6908</td>\n",
              "      <td>0.6908</td>\n",
              "      <td>0.8020</td>\n",
              "    </tr>\n",
              "    <tr>\n",
              "      <th>4</th>\n",
              "      <td>The selection on the menu was great and so wer...</td>\n",
              "      <td>1</td>\n",
              "      <td>selection menu great price</td>\n",
              "      <td>select menu great price</td>\n",
              "      <td>{'neg': 0.0, 'neu': 0.728, 'pos': 0.272, 'comp...</td>\n",
              "      <td>{'neg': 0.0, 'neu': 0.423, 'pos': 0.577, 'comp...</td>\n",
              "      <td>{'neg': 0.0, 'neu': 0.423, 'pos': 0.577, 'comp...</td>\n",
              "      <td>0.6249</td>\n",
              "      <td>0.6249</td>\n",
              "      <td>0.6249</td>\n",
              "    </tr>\n",
              "  </tbody>\n",
              "</table>\n",
              "</div>"
            ],
            "text/plain": [
              "                                              Review  ...  compound3\n",
              "0                           Wow... Loved this place.  ...     0.8402\n",
              "1                                 Crust is not good.  ...    -0.3412\n",
              "2          Not tasty and the texture was just nasty.  ...     0.0000\n",
              "3  Stopped by during the late May bank holiday of...  ...     0.8020\n",
              "4  The selection on the menu was great and so wer...  ...     0.6249\n",
              "\n",
              "[5 rows x 10 columns]"
            ]
          },
          "metadata": {
            "tags": []
          },
          "execution_count": 16
        }
      ]
    },
    {
      "cell_type": "code",
      "metadata": {
        "id": "Snl8x04-9LYf"
      },
      "source": [
        "#Assigning Final value and taking 0 as positive\n",
        "ds['comp_score1'] = ds['compound1'].apply(lambda c: 1 if c >=0 else 0)\n",
        "ds['comp_score2'] = ds['compound2'].apply(lambda c: 1 if c >=0 else 0)\n",
        "ds['comp_score3'] = ds['compound3'].apply(lambda c: 1 if c >=0 else 0)"
      ],
      "execution_count": 17,
      "outputs": []
    },
    {
      "cell_type": "code",
      "metadata": {
        "id": "Qwu7Iric9W0-"
      },
      "source": [
        "#Assigning Final value taking 0 as negative\n",
        "ds['comp_scoren1'] = ds['compound1'].apply(lambda c: 1 if c >0 else 0)\n",
        "ds['comp_scoren2'] = ds['compound2'].apply(lambda c: 1 if c >0 else 0)\n",
        "ds['comp_scoren3'] = ds['compound3'].apply(lambda c: 1 if c >0 else 0)\n"
      ],
      "execution_count": 18,
      "outputs": []
    },
    {
      "cell_type": "code",
      "metadata": {
        "colab": {
          "base_uri": "https://localhost:8080/"
        },
        "id": "DvsPjioV_0nt",
        "outputId": "8a04733d-a272-461c-d11f-cf0791a679c6"
      },
      "source": [
        "#Creating Confusion matrix\n",
        "from sklearn.metrics import confusion_matrix, accuracy_score\n",
        "print(\"-------------Zero is taken as positive here--------------\")\n",
        "print('Confusion Matrix w/o removing Stopwords: \\n', confusion_matrix(ds['comp_score1'],ds['Liked']))\n",
        "print()\n",
        "print('Confusion Matrix (Lemmatized) : \\n', confusion_matrix(ds['comp_score2'],ds['Liked']))\n",
        "print()\n",
        "print('Confusion Matrix (Stemmed): \\n', confusion_matrix(ds['comp_score3'],ds['Liked']))\n",
        "print()\n",
        "print(\"-------------Zero is taken as negative here--------------\")\n",
        "print('Confusion Matrix w/o removing Stopwords: \\n', confusion_matrix(ds['comp_scoren1'],ds['Liked']))\n",
        "print()\n",
        "print('Confusion Matrix (Lemmatized) : \\n', confusion_matrix(ds['comp_scoren2'],ds['Liked']))\n",
        "print()\n",
        "print('Confusion Matrix (Stemmed): \\n', confusion_matrix(ds['comp_scoren3'],ds['Liked']))\n",
        "print()\n"
      ],
      "execution_count": 19,
      "outputs": [
        {
          "output_type": "stream",
          "text": [
            "-------------Zero is taken as positive here--------------\n",
            "Confusion Matrix w/o removing Stopwords: \n",
            " [[238  17]\n",
            " [259 482]]\n",
            "\n",
            "Confusion Matrix (Lemmatized) : \n",
            " [[214  23]\n",
            " [283 476]]\n",
            "\n",
            "Confusion Matrix (Stemmed): \n",
            " [[174  23]\n",
            " [323 476]]\n",
            "\n",
            "-------------Zero is taken as negative here--------------\n",
            "Confusion Matrix w/o removing Stopwords: \n",
            " [[403  94]\n",
            " [ 94 405]]\n",
            "\n",
            "Confusion Matrix (Lemmatized) : \n",
            " [[378  97]\n",
            " [119 402]]\n",
            "\n",
            "Confusion Matrix (Stemmed): \n",
            " [[391 186]\n",
            " [106 313]]\n",
            "\n"
          ],
          "name": "stdout"
        }
      ]
    },
    {
      "cell_type": "code",
      "metadata": {
        "colab": {
          "base_uri": "https://localhost:8080/"
        },
        "id": "_60y7gpl__dI",
        "outputId": "5027ecad-b152-45f7-ced9-c45678c1e1b8"
      },
      "source": [
        "#Accuracy Score Calculation when 0 is considered positive\n",
        "acc_0p = accuracy_score(ds['comp_score1'],ds['Liked'])\n",
        "acc_lemm_0p = accuracy_score(ds['comp_score2'],ds['Liked'])\n",
        "acc_stem_0p = accuracy_score(ds['comp_score3'],ds['Liked'])\n",
        "print(\"-------------Zero is taken as positive here--------------\")\n",
        "print('Accuracy Score w/o removing Stopwords: ', acc_0p)\n",
        "print()\n",
        "print('Accuracy Score (Lemmatized) : ',acc_lemm_0p )\n",
        "print()\n",
        "print('Accuracy Score (Stemmed): ', acc_stem_0p)\n",
        "\n"
      ],
      "execution_count": 20,
      "outputs": [
        {
          "output_type": "stream",
          "text": [
            "-------------Zero is taken as positive here--------------\n",
            "Accuracy Score w/o removing Stopwords:  0.7228915662650602\n",
            "\n",
            "Accuracy Score (Lemmatized) :  0.6927710843373494\n",
            "\n",
            "Accuracy Score (Stemmed):  0.6526104417670683\n"
          ],
          "name": "stdout"
        }
      ]
    },
    {
      "cell_type": "code",
      "metadata": {
        "colab": {
          "base_uri": "https://localhost:8080/"
        },
        "id": "Dqa0kP90AYlv",
        "outputId": "803298e1-53f8-4592-de6c-ed7031f7478f"
      },
      "source": [
        "acc_0n = accuracy_score(ds['comp_scoren1'],ds['Liked'])\n",
        "acc_lemm_0n = accuracy_score(ds['comp_scoren2'],ds['Liked'])\n",
        "acc_stem_0n = accuracy_score(ds['comp_scoren3'],ds['Liked'])\n",
        "print(\"-------------Zero is taken as negative here--------------\")\n",
        "print('Accuracy Score w/o removing Stopwords: ',acc_0n)\n",
        "print()\n",
        "print('Accuracy Score (Lemmatized) : ', acc_lemm_0n)\n",
        "print()\n",
        "print('Accuracy Score (Stemmed): ', acc_stem_0n)"
      ],
      "execution_count": 21,
      "outputs": [
        {
          "output_type": "stream",
          "text": [
            "-------------Zero is taken as negative here--------------\n",
            "Accuracy Score w/o removing Stopwords:  0.8112449799196787\n",
            "\n",
            "Accuracy Score (Lemmatized) :  0.7831325301204819\n",
            "\n",
            "Accuracy Score (Stemmed):  0.7068273092369478\n"
          ],
          "name": "stdout"
        }
      ]
    },
    {
      "cell_type": "code",
      "metadata": {
        "colab": {
          "base_uri": "https://localhost:8080/"
        },
        "id": "V04SnePVJyIm",
        "outputId": "16a80867-15d1-4942-ecf5-adb2d712275c"
      },
      "source": [
        "#Creatiing Final Summarized Table ofAccuracy\n",
        "print(\"-------------Accuracy Summarized-------------\")\n",
        "data = {'Direct Text':[acc_0p*100, acc_0n*100], 'Lemmatized Text':[acc_lemm_0p*100, acc_lemm_0n*100], 'Stemmed Text':[acc_stem_0p*100, acc_stem_0n*100] }\n",
        "index = ['Zero as +ve','Zero as -ve']\n",
        "df = pd.DataFrame(data,index = index)\n",
        "print(df)"
      ],
      "execution_count": 22,
      "outputs": [
        {
          "output_type": "stream",
          "text": [
            "-------------Accuracy Summarized-------------\n",
            "             Direct Text  Lemmatized Text  Stemmed Text\n",
            "Zero as +ve    72.289157        69.277108     65.261044\n",
            "Zero as -ve    81.124498        78.313253     70.682731\n"
          ],
          "name": "stdout"
        }
      ]
    },
    {
      "cell_type": "code",
      "metadata": {
        "colab": {
          "base_uri": "https://localhost:8080/",
          "height": 334
        },
        "id": "Qak6juszs3BC",
        "outputId": "b40aefc3-549e-4c2d-eb0f-ca9c6651d386"
      },
      "source": [
        "df.plot.bar()"
      ],
      "execution_count": 23,
      "outputs": [
        {
          "output_type": "execute_result",
          "data": {
            "text/plain": [
              "<matplotlib.axes._subplots.AxesSubplot at 0x7f1bb080ee80>"
            ]
          },
          "metadata": {
            "tags": []
          },
          "execution_count": 23
        },
        {
          "output_type": "display_data",
          "data": {
            "image/png": "[encoded data removed]",
            "text/plain": [
              "<Figure size 432x288 with 1 Axes>"
            ]
          },
          "metadata": {
            "tags": [],
            "needs_background": "light"
          }
        }
      ]
    }
  ]
}